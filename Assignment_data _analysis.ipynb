{
 "cells": [
  {
   "cell_type": "code",
   "execution_count": null,
   "id": "34b3ec88",
   "metadata": {},
   "outputs": [],
   "source": []
  },
  {
   "cell_type": "code",
   "execution_count": 37,
   "id": "090afa85",
   "metadata": {},
   "outputs": [],
   "source": [
    "import pandas as pd"
   ]
  },
  {
   "cell_type": "code",
   "execution_count": 38,
   "id": "7cb316d9",
   "metadata": {},
   "outputs": [
    {
     "data": {
      "text/html": [
       "<div>\n",
       "<style scoped>\n",
       "    .dataframe tbody tr th:only-of-type {\n",
       "        vertical-align: middle;\n",
       "    }\n",
       "\n",
       "    .dataframe tbody tr th {\n",
       "        vertical-align: top;\n",
       "    }\n",
       "\n",
       "    .dataframe thead th {\n",
       "        text-align: right;\n",
       "    }\n",
       "</style>\n",
       "<table border=\"1\" class=\"dataframe\">\n",
       "  <thead>\n",
       "    <tr style=\"text-align: right;\">\n",
       "      <th></th>\n",
       "      <th>retailer_bill_hash</th>\n",
       "      <th>txn_date</th>\n",
       "      <th>barcode</th>\n",
       "      <th>retailer_id</th>\n",
       "      <th>mrp</th>\n",
       "      <th>sp</th>\n",
       "      <th>qty</th>\n",
       "    </tr>\n",
       "  </thead>\n",
       "  <tbody>\n",
       "    <tr>\n",
       "      <th>0</th>\n",
       "      <td>bc1746a7b50be9d1a2de4f99943359326c3369e99a754e...</td>\n",
       "      <td>2023-03-14</td>\n",
       "      <td>DP</td>\n",
       "      <td>19</td>\n",
       "      <td>90.0</td>\n",
       "      <td>90.0</td>\n",
       "      <td>1.0</td>\n",
       "    </tr>\n",
       "    <tr>\n",
       "      <th>1</th>\n",
       "      <td>bc1746a7b50be9d1a2de4f99943359326c3369e99a754e...</td>\n",
       "      <td>2023-03-14</td>\n",
       "      <td>8901719255151</td>\n",
       "      <td>19</td>\n",
       "      <td>10.0</td>\n",
       "      <td>10.0</td>\n",
       "      <td>3.0</td>\n",
       "    </tr>\n",
       "    <tr>\n",
       "      <th>2</th>\n",
       "      <td>67addbc1d7dbe8b0c7b63c459ce05259bfff108586c523...</td>\n",
       "      <td>2023-03-17</td>\n",
       "      <td>SS_19_00020</td>\n",
       "      <td>19</td>\n",
       "      <td>4.0</td>\n",
       "      <td>4.0</td>\n",
       "      <td>1.0</td>\n",
       "    </tr>\n",
       "    <tr>\n",
       "      <th>3</th>\n",
       "      <td>67addbc1d7dbe8b0c7b63c459ce05259bfff108586c523...</td>\n",
       "      <td>2023-03-17</td>\n",
       "      <td>8904001800275</td>\n",
       "      <td>19</td>\n",
       "      <td>124.0</td>\n",
       "      <td>124.0</td>\n",
       "      <td>1.0</td>\n",
       "    </tr>\n",
       "    <tr>\n",
       "      <th>4</th>\n",
       "      <td>67addbc1d7dbe8b0c7b63c459ce05259bfff108586c523...</td>\n",
       "      <td>2023-03-17</td>\n",
       "      <td>8906036670014</td>\n",
       "      <td>19</td>\n",
       "      <td>17.0</td>\n",
       "      <td>17.0</td>\n",
       "      <td>2.0</td>\n",
       "    </tr>\n",
       "  </tbody>\n",
       "</table>\n",
       "</div>"
      ],
      "text/plain": [
       "                                  retailer_bill_hash    txn_date  \\\n",
       "0  bc1746a7b50be9d1a2de4f99943359326c3369e99a754e...  2023-03-14   \n",
       "1  bc1746a7b50be9d1a2de4f99943359326c3369e99a754e...  2023-03-14   \n",
       "2  67addbc1d7dbe8b0c7b63c459ce05259bfff108586c523...  2023-03-17   \n",
       "3  67addbc1d7dbe8b0c7b63c459ce05259bfff108586c523...  2023-03-17   \n",
       "4  67addbc1d7dbe8b0c7b63c459ce05259bfff108586c523...  2023-03-17   \n",
       "\n",
       "         barcode  retailer_id    mrp     sp  qty  \n",
       "0             DP           19   90.0   90.0  1.0  \n",
       "1  8901719255151           19   10.0   10.0  3.0  \n",
       "2    SS_19_00020           19    4.0    4.0  1.0  \n",
       "3  8904001800275           19  124.0  124.0  1.0  \n",
       "4  8906036670014           19   17.0   17.0  2.0  "
      ]
     },
     "execution_count": 38,
     "metadata": {},
     "output_type": "execute_result"
    }
   ],
   "source": [
    "\n",
    "df = pd.read_csv('C:/Users/admin/Downloads/dataSet.csv') \n",
    "df.head()"
   ]
  },
  {
   "cell_type": "code",
   "execution_count": 39,
   "id": "2c57ed38",
   "metadata": {},
   "outputs": [
    {
     "data": {
      "text/plain": [
       "retailer_bill_hash    29663\n",
       "txn_date                 31\n",
       "barcode               26835\n",
       "retailer_id              25\n",
       "mrp                     894\n",
       "sp                     1598\n",
       "qty                    1328\n",
       "dtype: int64"
      ]
     },
     "execution_count": 39,
     "metadata": {},
     "output_type": "execute_result"
    }
   ],
   "source": [
    "df.nunique()"
   ]
  },
  {
   "cell_type": "code",
   "execution_count": 40,
   "id": "46184d15",
   "metadata": {},
   "outputs": [
    {
     "data": {
      "text/plain": [
       "Index(['retailer_bill_hash', 'txn_date', 'barcode', 'retailer_id', 'mrp', 'sp',\n",
       "       'qty'],\n",
       "      dtype='object')"
      ]
     },
     "execution_count": 40,
     "metadata": {},
     "output_type": "execute_result"
    }
   ],
   "source": [
    "df.columns"
   ]
  },
  {
   "cell_type": "code",
   "execution_count": 41,
   "id": "d04d0de5",
   "metadata": {},
   "outputs": [
    {
     "name": "stdout",
     "output_type": "stream",
     "text": [
      "<class 'pandas.core.frame.DataFrame'>\n",
      "RangeIndex: 150000 entries, 0 to 149999\n",
      "Data columns (total 7 columns):\n",
      " #   Column              Non-Null Count   Dtype  \n",
      "---  ------              --------------   -----  \n",
      " 0   retailer_bill_hash  150000 non-null  object \n",
      " 1   txn_date            150000 non-null  object \n",
      " 2   barcode             149996 non-null  object \n",
      " 3   retailer_id         150000 non-null  int64  \n",
      " 4   mrp                 150000 non-null  float64\n",
      " 5   sp                  150000 non-null  float64\n",
      " 6   qty                 150000 non-null  float64\n",
      "dtypes: float64(3), int64(1), object(3)\n",
      "memory usage: 8.0+ MB\n"
     ]
    }
   ],
   "source": [
    "df.info()"
   ]
  },
  {
   "cell_type": "code",
   "execution_count": 42,
   "id": "bf169a33",
   "metadata": {},
   "outputs": [
    {
     "data": {
      "text/plain": [
       "(150000, 7)"
      ]
     },
     "execution_count": 42,
     "metadata": {},
     "output_type": "execute_result"
    }
   ],
   "source": [
    "df.shape"
   ]
  },
  {
   "cell_type": "code",
   "execution_count": 43,
   "id": "f133d71a",
   "metadata": {},
   "outputs": [
    {
     "data": {
      "text/plain": [
       "retailer_bill_hash    0\n",
       "txn_date              0\n",
       "barcode               4\n",
       "retailer_id           0\n",
       "mrp                   0\n",
       "sp                    0\n",
       "qty                   0\n",
       "dtype: int64"
      ]
     },
     "execution_count": 43,
     "metadata": {},
     "output_type": "execute_result"
    }
   ],
   "source": [
    "df.isnull().sum()"
   ]
  },
  {
   "cell_type": "code",
   "execution_count": 44,
   "id": "bf13ab45",
   "metadata": {},
   "outputs": [
    {
     "name": "stdout",
     "output_type": "stream",
     "text": [
      "Total number of unique bills: 29663\n"
     ]
    }
   ],
   "source": [
    "# 1)\n",
    "\n",
    "# Count the number of unique bills\n",
    "unique_bills = df['retailer_bill_hash'].nunique()\n",
    "\n",
    "print(f'Total number of unique bills: {unique_bills}')"
   ]
  },
  {
   "cell_type": "code",
   "execution_count": 45,
   "id": "b9b0f085",
   "metadata": {},
   "outputs": [
    {
     "name": "stdout",
     "output_type": "stream",
     "text": [
      "Total number of unique retailers: 25\n"
     ]
    }
   ],
   "source": [
    "# 2)\n",
    "# Count the number of unique retailers\n",
    "unique_retailers = df['retailer_id'].nunique()\n",
    "\n",
    "print(f'Total number of unique retailers: {unique_retailers}')"
   ]
  },
  {
   "cell_type": "code",
   "execution_count": 46,
   "id": "ffefc327",
   "metadata": {},
   "outputs": [
    {
     "name": "stdout",
     "output_type": "stream",
     "text": [
      "Total sales value: 12551209\n"
     ]
    }
   ],
   "source": [
    "# 3)\n",
    "# Calculate the total sales value\n",
    "df['total_sales'] = df['sp'] * df['qty']\n",
    "total_sales_value = df['total_sales'].sum()\n",
    "\n",
    "# Round to zero decimal places\n",
    "total_sales_value = round(total_sales_value)\n",
    "\n",
    "print(f'Total sales value: {total_sales_value}')"
   ]
  },
  {
   "cell_type": "code",
   "execution_count": null,
   "id": "d3da861d",
   "metadata": {},
   "outputs": [],
   "source": []
  },
  {
   "cell_type": "code",
   "execution_count": 47,
   "id": "4a4e4604",
   "metadata": {},
   "outputs": [
    {
     "name": "stdout",
     "output_type": "stream",
     "text": [
      "Average discount offered: -45.1%\n"
     ]
    }
   ],
   "source": [
    "# 4)\n",
    "df = df[df['mrp'] > 0].copy()\n",
    "\n",
    "# Calculate the discount percentage for each transaction\n",
    "df.loc[:, 'discount_percentage'] = ((df['mrp'] - df['sp']) / df['mrp']) * 100\n",
    "\n",
    "# Calculate the average discount percentage\n",
    "average_discount = df['discount_percentage'].mean()\n",
    "\n",
    "# Round to one decimal place\n",
    "average_discount = round(average_discount, 1)\n",
    "\n",
    "print(f'Average discount offered: {average_discount}%')\n"
   ]
  },
  {
   "cell_type": "code",
   "execution_count": null,
   "id": "de864c3e",
   "metadata": {},
   "outputs": [],
   "source": []
  },
  {
   "cell_type": "code",
   "execution_count": 48,
   "id": "9d081ca0",
   "metadata": {},
   "outputs": [
    {
     "name": "stdout",
     "output_type": "stream",
     "text": [
      "Average lines per bill: 5.1\n"
     ]
    }
   ],
   "source": [
    "# 5)\n",
    "# Count the number of lines (items) per bill\n",
    "lines_per_bill = df.groupby('retailer_bill_hash').size()\n",
    "\n",
    "# Calculate the average lines per bill\n",
    "average_lines_per_bill = lines_per_bill.mean()\n",
    "\n",
    "# Round to one decimal place\n",
    "average_lines_per_bill = round(average_lines_per_bill, 1)\n",
    "\n",
    "print(f'Average lines per bill: {average_lines_per_bill}')"
   ]
  },
  {
   "cell_type": "code",
   "execution_count": 49,
   "id": "13d864af",
   "metadata": {},
   "outputs": [
    {
     "name": "stdout",
     "output_type": "stream",
     "text": [
      "The day of the week with the maximum sales is: 3\n"
     ]
    }
   ],
   "source": [
    "# 6)\n",
    "# Convert the txt_date column to datetime format\n",
    "df['txn_date'] = pd.to_datetime(df['txn_date'])\n",
    "\n",
    "# Extract the day of the week (Sunday=0, Monday=1, ..., Saturday=6)\n",
    "df['day_of_week'] = df['txn_date'].dt.dayofweek\n",
    "\n",
    "# Calculate the total sales value for each row\n",
    "df['total_sales'] = df['sp'] * df['qty']\n",
    "\n",
    "# Calculate the total sales for each day of the week\n",
    "total_sales_by_day = df.groupby('day_of_week')['total_sales'].sum()\n",
    "\n",
    "# Identify the day with the maximum sales\n",
    "max_sales_day = total_sales_by_day.idxmax()\n",
    "\n",
    "print(f'The day of the week with the maximum sales is: {max_sales_day}')"
   ]
  },
  {
   "cell_type": "code",
   "execution_count": 50,
   "id": "29cddba7",
   "metadata": {},
   "outputs": [
    {
     "name": "stdout",
     "output_type": "stream",
     "text": [
      "Total number of distinct compliant barcodes: 14505\n"
     ]
    }
   ],
   "source": [
    "# 7)\n",
    "\n",
    "def is_compliant(barcode):\n",
    "    # Convert to string and strip leading zeros\n",
    "    barcode = str(barcode).lstrip('0')\n",
    "    \n",
    "    # Check if the length is 8, 12, or 13\n",
    "    if len(barcode) not in [8, 12, 13]:\n",
    "        return False\n",
    "    \n",
    "    # Check digit calculation for UPC norms\n",
    "    # Assuming barcode is numeric\n",
    "    if not barcode.isdigit():\n",
    "        return False\n",
    "    \n",
    "    def check_digit_upc_e(barcode):\n",
    "        check_sum = sum((3 if i % 2 == 1 else 1) * int(barcode[i]) for i in range(7))\n",
    "        return (10 - (check_sum % 10)) % 10 == int(barcode[7])\n",
    "\n",
    "    def check_digit_upc_a_ean_13(barcode):\n",
    "        check_sum = sum((3 if i % 2 == len(barcode) % 2 else 1) * int(barcode[i]) for i in range(len(barcode) - 1))\n",
    "        return (10 - (check_sum % 10)) % 10 == int(barcode[-1])\n",
    "\n",
    "    if len(barcode) == 8:\n",
    "        return check_digit_upc_e(barcode)\n",
    "    elif len(barcode) in [12, 13]:\n",
    "        return check_digit_upc_a_ean_13(barcode)\n",
    "    else:\n",
    "        return False\n",
    "\n",
    "\n",
    "\n",
    "# the barcode column is treated as string\n",
    "df['barcode'] = df['barcode'].astype(str)\n",
    "\n",
    "# Apply the compliance check\n",
    "df['is_compliant'] = df['barcode'].apply(is_compliant)\n",
    "\n",
    "# Count the distinct compliant barcodes\n",
    "distinct_compliant_barcodes = df[df['is_compliant']]['barcode'].nunique()\n",
    "\n",
    "print(f'Total number of distinct compliant barcodes: {distinct_compliant_barcodes}')\n"
   ]
  },
  {
   "cell_type": "code",
   "execution_count": null,
   "id": "2e846405",
   "metadata": {},
   "outputs": [],
   "source": []
  },
  {
   "cell_type": "code",
   "execution_count": null,
   "id": "9218b20b",
   "metadata": {},
   "outputs": [],
   "source": []
  }
 ],
 "metadata": {
  "kernelspec": {
   "display_name": "Python 3 (ipykernel)",
   "language": "python",
   "name": "python3"
  },
  "language_info": {
   "codemirror_mode": {
    "name": "ipython",
    "version": 3
   },
   "file_extension": ".py",
   "mimetype": "text/x-python",
   "name": "python",
   "nbconvert_exporter": "python",
   "pygments_lexer": "ipython3",
   "version": "3.10.6"
  }
 },
 "nbformat": 4,
 "nbformat_minor": 5
}
